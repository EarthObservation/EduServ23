{
 "cells": [
  {
   "cell_type": "code",
   "execution_count": null,
   "id": "872142e4-9880-4595-9872-06af72c2565d",
   "metadata": {},
   "outputs": [],
   "source": [
    "# read the credentials\n",
    "f = open('sentinelhub.id', 'r')\n",
    "for _ in range(3):\n",
    "    exec(f.readline())"
   ]
  },
  {
   "cell_type": "code",
   "execution_count": null,
   "id": "0ca3a19f-c70e-4d40-8ea1-7795ffa70964",
   "metadata": {},
   "outputs": [],
   "source": [
    "!sentinelhub.config --instance_id \"$INSTANCE_ID\" --sh_client_id \"$CLIENT_ID\" --sh_client_secret \"$CLIENT_SECRET\""
   ]
  },
  {
   "cell_type": "code",
   "execution_count": 1,
   "id": "d954492a-70e7-41ca-980c-64f2418e7ce4",
   "metadata": {},
   "outputs": [
    {
     "name": "stdout",
     "output_type": "stream",
     "text": [
      "{\n",
      "  \"instance_id\": \"185f2127-8dc5-4dfe-9fc3-a853703b27af\",\n",
      "  \"sh_client_id\": \"19bd5359-2c67-4ca9-b023-163b429ba2f3\",\n",
      "  \"sh_client_secret\": \"b!k,>S>TaHGs?45.<K:hk<_AC{>1/[*uU;a)!^*!\",\n",
      "  \"sh_base_url\": \"https://services.sentinel-hub.com\",\n",
      "  \"sh_auth_base_url\": \"https://services.sentinel-hub.com\",\n",
      "  \"geopedia_wms_url\": \"https://service.geopedia.world\",\n",
      "  \"geopedia_rest_url\": \"https://www.geopedia.world/rest\",\n",
      "  \"aws_access_key_id\": \"\",\n",
      "  \"aws_secret_access_key\": \"\",\n",
      "  \"aws_session_token\": \"\",\n",
      "  \"aws_metadata_url\": \"https://roda.sentinel-hub.com\",\n",
      "  \"aws_s3_l1c_bucket\": \"sentinel-s2-l1c\",\n",
      "  \"aws_s3_l2a_bucket\": \"sentinel-s2-l2a\",\n",
      "  \"opensearch_url\": \"http://opensearch.sentinel-hub.com/resto/api/collections/Sentinel2\",\n",
      "  \"max_wfs_records_per_query\": 100,\n",
      "  \"max_opensearch_records_per_query\": 500,\n",
      "  \"max_download_attempts\": 4,\n",
      "  \"download_sleep_time\": 5.0,\n",
      "  \"download_timeout_seconds\": 120.0,\n",
      "  \"number_of_download_processes\": 1\n",
      "}\n",
      "Configuration file location: C:\\Users\\mracic\\AppData\\Local\\Continuum\\anaconda3\\envs\\statapi\\lib\\site-packages\\sentinelhub\\config.json\n"
     ]
    }
   ],
   "source": [
    "# confirm the values have been set \n",
    "!sentinelhub.config --show"
   ]
  },
  {
   "cell_type": "code",
   "execution_count": null,
   "id": "aa2ad73c-cf9b-4649-a186-07fbe0a587bc",
   "metadata": {},
   "outputs": [],
   "source": []
  }
 ],
 "metadata": {
  "kernelspec": {
   "display_name": "Python 3 (ipykernel)",
   "language": "python",
   "name": "python3"
  },
  "language_info": {
   "codemirror_mode": {
    "name": "ipython",
    "version": 3
   },
   "file_extension": ".py",
   "mimetype": "text/x-python",
   "name": "python",
   "nbconvert_exporter": "python",
   "pygments_lexer": "ipython3",
   "version": "3.10.8"
  },
  "vscode": {
   "interpreter": {
    "hash": "6a6edf0266831650904d45ebea3a1b4640f37efcd9e2004c6886f3018479f897"
   }
  }
 },
 "nbformat": 4,
 "nbformat_minor": 5
}
